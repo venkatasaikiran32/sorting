{
  "nbformat": 4,
  "nbformat_minor": 0,
  "metadata": {
    "colab": {
      "provenance": []
    },
    "kernelspec": {
      "name": "python3",
      "display_name": "Python 3"
    },
    "language_info": {
      "name": "python"
    }
  },
  "cells": [
    {
      "cell_type": "code",
      "execution_count": null,
      "metadata": {
        "id": "qUCt6etEYv2K"
      },
      "outputs": [],
      "source": []
    },
    {
      "cell_type": "markdown",
      "source": [
        "Problem 1.Given an array of n numbers, give an algorithm which gives the element appearing maximum\n",
        "number of times?"
      ],
      "metadata": {
        "id": "pFmcubGgZCUX"
      }
    },
    {
      "cell_type": "markdown",
      "source": [
        "\n",
        "To find the element that appears the maximum number of times in an array, we can follow the algorithm described below. The most efficient approach involves using a hash table (or dictionary in Python) to count the occurrences of each element. This allows us to solve the problem in linear time,\n",
        "𝑂\n",
        "(\n",
        "𝑛\n",
        "), which is optimal for this task.\n",
        "\n",
        "Algorithm Steps:\n",
        "Initialize a Hash Table (Dictionary): Create an empty dictionary to store the frequency of each element in the array.\n",
        "\n",
        "Count Frequencies: Traverse through the array, and for each element, update its count in the dictionary.\n",
        "\n",
        "Find the Maximum Frequency Element: After populating the dictionary, iterate through it to find the element with the highest frequency.\n",
        "\n",
        "Return the Result: The element with the highest frequency is the result."
      ],
      "metadata": {
        "id": "NlC-YvyiccHY"
      }
    },
    {
      "cell_type": "code",
      "source": [
        "#code:\n",
        "def find_max_frequency_element(arr):\n",
        "    # Step 1: Creating an empty dictionary to store frequencies\n",
        "    frequency_dict = {}\n",
        "\n",
        "    # Step 2: Counting the frequency of each element in the array\n",
        "    for element in arr:\n",
        "        if element in frequency_dict:\n",
        "            frequency_dict[element] += 1\n",
        "        else:\n",
        "            frequency_dict[element] = 1\n",
        "\n",
        "    # Step 3: Finding the element with the maximum frequency\n",
        "    max_frequency = 0\n",
        "    max_frequency_element = None\n",
        "    for element, frequency in frequency_dict.items():\n",
        "        if frequency > max_frequency:\n",
        "            max_frequency = frequency\n",
        "            max_frequency_element = element\n",
        "\n",
        "    # Step 4: Return the element with the highest frequency\n",
        "    return max_frequency_element\n",
        "\n",
        "# Example usage:\n",
        "arr = [1, 3, 2, 3, 4, 1, 1, 3, 3, 5]\n",
        "result = find_max_frequency_element(arr)\n",
        "print(f\"The element appearing the maximum number of times is: {result}\")\n",
        "\n"
      ],
      "metadata": {
        "colab": {
          "base_uri": "https://localhost:8080/"
        },
        "id": "1lhZ-k8IcN8j",
        "outputId": "8269809c-32f3-44b3-844f-5b03b0b9fa9e"
      },
      "execution_count": null,
      "outputs": [
        {
          "output_type": "stream",
          "name": "stdout",
          "text": [
            "The element appearing the maximum number of times is: 3\n"
          ]
        }
      ]
    },
    {
      "cell_type": "markdown",
      "source": [
        "Problem 2 : We are given a list of n-1 integers and these integers are in the range of 1 to n . There are no\n",
        "duplicates in the list. One of the integers is missing in the list. Give an algorithm to find that element Ex:\n",
        "[1,2,4,6,3,7,8] 5 is the missing num."
      ],
      "metadata": {
        "id": "khCQwf01dNUJ"
      }
    },
    {
      "cell_type": "markdown",
      "source": [
        "Method 1: Sum Formula Approach\n",
        "This method uses the property of the sum of the first\n",
        "𝑛\n",
        "n natural numbers to find the missing number. The sum of the first\n",
        "𝑛\n",
        "n natural numbers is given by the formula:"
      ],
      "metadata": {
        "id": "jTBT4cz7dndI"
      }
    },
    {
      "cell_type": "markdown",
      "source": [
        "S\n",
        "n\n",
        "​\n",
        " =\n",
        "\n",
        "n×(n+1)/2\n",
        "​\n"
      ],
      "metadata": {
        "id": "pQB5sBgnec1J"
      }
    },
    {
      "cell_type": "markdown",
      "source": [
        "algo  (sum approach):\n",
        "\n",
        "\n",
        "by this formula we can calculate sum of first n natural numbers\n",
        "\n",
        "so if we iterate through the provided list we will get the elements_sum in the list\n",
        "\n",
        "now we can find the missing number =sum of first n natural numbers- elements_sum\n",
        "\n",
        "\n",
        "time complexity=o(n)\n",
        "space complexity=o(1)\n",
        "\n",
        "o(n)-> is for to iterate over the data structure to find sum of elements"
      ],
      "metadata": {
        "id": "jsSOo2lmekVE"
      }
    },
    {
      "cell_type": "code",
      "source": [
        "def find_missing_number(arr):\n",
        "    n = len(arr) + 1  # Since one number is missing, the length of the array is n-1, so n = len(arr) + 1\n",
        "\n",
        "    # Calculating the expected sum of the first n natural numbers\n",
        "    expected_sum = n * (n + 1) // 2\n",
        "\n",
        "    # Calculating the actual sum of the numbers in the array\n",
        "    actual_sum = sum(arr)\n",
        "\n",
        "    # The missing number is the difference between expected and actual sum\n",
        "    missing_number = expected_sum - actual_sum\n",
        "\n",
        "    return missing_number\n",
        "\n",
        "# Example usage\n",
        "arr = [1, 2, 4, 6, 3, 7, 8]\n",
        "result = find_missing_number(arr)\n",
        "print(f\"The missing number is: {result}\")\n"
      ],
      "metadata": {
        "colab": {
          "base_uri": "https://localhost:8080/"
        },
        "id": "ifrcwvtvc4w-",
        "outputId": "d63e3237-4dcb-4fe0-c922-9af5c9106bd7"
      },
      "execution_count": null,
      "outputs": [
        {
          "output_type": "stream",
          "name": "stdout",
          "text": [
            "The missing number is: 5\n"
          ]
        }
      ]
    },
    {
      "cell_type": "markdown",
      "source": [
        "Method 2: XOR Approach\n",
        "\n",
        "\n",
        "\n"
      ],
      "metadata": {
        "id": "UQKVcWHAfbbe"
      }
    },
    {
      "cell_type": "markdown",
      "source": [
        "Method 2: XOR Approach\n",
        "This method uses the XOR operation, which has some useful properties:\n",
        "\n",
        "𝑥\n",
        "⊕\n",
        "𝑥\n",
        "=\n",
        "0\n",
        "(XOR of a number with itself is 0)\n",
        "\n",
        "𝑥\n",
        "⊕\n",
        "0\n",
        "=\n",
        "𝑥\n",
        " (XOR of a number with 0 is the number itself)\n",
        "\n",
        "XOR is both associative and commutative."
      ],
      "metadata": {
        "id": "cJdwb03qfrre"
      }
    },
    {
      "cell_type": "markdown",
      "source": [
        "so by using this approach we can easily calculate the missing number"
      ],
      "metadata": {
        "id": "k6aZ0Zo0gY0o"
      }
    },
    {
      "cell_type": "markdown",
      "source": [
        "steps:\n",
        "\n",
        "1--> finding xor for the elements of data structure\n",
        "\n",
        "2--> find the xor of first n natural  numbers\n",
        "\n",
        "3--> so by applying xor on both we will get missing value\n",
        "\n",
        "\n",
        "\n"
      ],
      "metadata": {
        "id": "slSEIWAUggO0"
      }
    },
    {
      "cell_type": "code",
      "source": [
        "#code\n",
        "def find_missing_number_xor(arr):\n",
        "    n = len(arr) + 1  # Since one number is missing, the length of the array is n-1, so n = len(arr) + 1\n",
        "\n",
        "    xor_full = 0\n",
        "    xor_arr = 0\n",
        "\n",
        "    # XOR all numbers from 1 to n\n",
        "    for i in range(1, n + 1):\n",
        "        xor_full ^= i\n",
        "\n",
        "    # XOR all numbers in the array\n",
        "    for num in arr:\n",
        "        xor_arr ^= num\n",
        "\n",
        "    # XOR of xor_full and xor_arr will give the missing number\n",
        "    missing_number = xor_full ^ xor_arr\n",
        "\n",
        "    return missing_number\n",
        "\n",
        "# Example usage\n",
        "arr = [1, 2, 4, 6, 3, 7, 8]\n",
        "result = find_missing_number_xor(arr)\n",
        "print(f\"The missing number is: {result}\")\n"
      ],
      "metadata": {
        "colab": {
          "base_uri": "https://localhost:8080/"
        },
        "id": "RfNjYH7yfZEB",
        "outputId": "fa2be912-8100-49e2-b394-b166f5b36848"
      },
      "execution_count": null,
      "outputs": [
        {
          "output_type": "stream",
          "name": "stdout",
          "text": [
            "The missing number is: 5\n"
          ]
        }
      ]
    },
    {
      "cell_type": "markdown",
      "source": [
        "Both methods have a time complexity of\n",
        "𝑂\n",
        "(\n",
        "𝑛\n",
        ")\n",
        "O(n), where\n",
        "𝑛\n",
        "n is the size of the array including the missing number. The space complexity for both methods is\n",
        "𝑂\n",
        "(\n",
        "1\n",
        ")\n",
        "O(1) since they use a constant amount of extra space."
      ],
      "metadata": {
        "id": "ZBW21WxohhxX"
      }
    },
    {
      "cell_type": "markdown",
      "source": [
        "Problem 3 : Given an array of n positive numbers. All numbers occurs even number of times except 1 which\n",
        "occurs odd number of times. Find that number in O(n) time and O(1) space. Ex: [1,2,3,2,3,1,3]. 3 is repeats odd\n",
        "times."
      ],
      "metadata": {
        "id": "JNOm32H4h0pg"
      }
    },
    {
      "cell_type": "markdown",
      "source": [
        "as we know that xor operation between same number gives zero\n",
        "\n",
        "so we can simply use that\n",
        "\n",
        "so the numbers which are even in count they simply cancelled out\n",
        "\n",
        "only the number which occured odd no of times will be remain\n",
        "\n",
        "step 1-> iterate through the data structure and apply xor opeartion between them\n",
        "\n"
      ],
      "metadata": {
        "id": "Y8EapnT4iI4l"
      }
    },
    {
      "cell_type": "code",
      "source": [
        "#code\n",
        "def find_odd_occurrence(arr):\n",
        "    result = 0  # Initialize the result to 0\n",
        "\n",
        "    # XOR all elements in the array\n",
        "    for num in arr:\n",
        "        result ^= num\n",
        "\n",
        "    return result\n",
        "\n",
        "# Example usage\n",
        "arr = [1, 2, 3, 2, 3, 1, 3]\n",
        "result = find_odd_occurrence(arr)\n",
        "print(f\"The number occurring an odd number of times is: {result}\")\n"
      ],
      "metadata": {
        "colab": {
          "base_uri": "https://localhost:8080/"
        },
        "id": "pd0gjcWZhAEb",
        "outputId": "a848f09d-2ac8-42e0-ea93-f1f89a466eb5"
      },
      "execution_count": null,
      "outputs": [
        {
          "output_type": "stream",
          "name": "stdout",
          "text": [
            "The number occurring an odd number of times is: 3\n"
          ]
        }
      ]
    },
    {
      "cell_type": "markdown",
      "source": [
        "Problem 4 : Given an array of n elements. Find two elements in the array such that their sum is equal to given\n",
        "element K."
      ],
      "metadata": {
        "id": "nE2SqNnWiudY"
      }
    },
    {
      "cell_type": "markdown",
      "source": [
        "To find two elements in an array such that their sum equals a given number\n",
        "\n",
        "K, you can use an efficient approach with a hash set. This method has a time complexity of\n",
        "𝑂\n",
        "(\n",
        "𝑛\n",
        ")\n",
        "O(n) and a space complexity of\n",
        "𝑂\n",
        "(\n",
        "𝑛\n",
        ")."
      ],
      "metadata": {
        "id": "UvNDC5GfkcvB"
      }
    },
    {
      "cell_type": "markdown",
      "source": [
        "Algorithm\n",
        "\n",
        "\n",
        "Initialize a Hash Set: Use a set to keep track of the elements that you've encountered so far.\n",
        "\n",
        "\n",
        "\n",
        "Iterate through the Array: For each element in the array:\n",
        "Calculate the complement (i.e., the number you need to add to the current element to get\n",
        "𝐾\n",
        "K).\n",
        "\n",
        "\n",
        "Check if the complement is in the hash set.\n",
        "If it is, you've found a pair that sums to\n",
        "𝐾\n",
        "K.\n",
        "If not, add the current element to the hash set and continue.\n",
        "\n",
        "\n",
        "Return the Pair: If a pair is found, return it; otherwise, indicate that no such pair exists."
      ],
      "metadata": {
        "id": "yW3is-0YkjPL"
      }
    },
    {
      "cell_type": "code",
      "source": [
        "def find_pair_with_sum(arr, K):\n",
        "    seen = set()  # Creating an empty set to store the elements we have seen\n",
        "\n",
        "    for num in arr:\n",
        "        complement = K - num  # Finding the complement that would sum up to K\n",
        "        if complement in seen:\n",
        "            # If the complement is in the set, return the pair\n",
        "            return (complement, num)\n",
        "        seen.add(num)  # Adding the current number to the set\n",
        "\n",
        "    return None  # Return None if no pair is found\n",
        "\n",
        "# Example usage\n",
        "arr = [2, 4, 7, 11, 15]\n",
        "K = 9\n",
        "result = find_pair_with_sum(arr, K)\n",
        "\n",
        "if result:\n",
        "    print(f\"The pair with sum {K} is: {result}\")\n",
        "else:\n",
        "    print(f\"No pair found with sum {K}.\")\n"
      ],
      "metadata": {
        "colab": {
          "base_uri": "https://localhost:8080/"
        },
        "id": "qB5WPKd9isnl",
        "outputId": "5a9c27bb-66c0-49a3-ae39-870ccf4df564"
      },
      "execution_count": null,
      "outputs": [
        {
          "output_type": "stream",
          "name": "stdout",
          "text": [
            "The pair with sum 9 is: (2, 7)\n"
          ]
        }
      ]
    },
    {
      "cell_type": "markdown",
      "source": [
        "Problem 5 : Given an array of both positive and negative numbers, find two numbers such that their sum is\n",
        "closest to 0. Ex: [ 1 ,60 ,-10, 70, -80,85]. Ans : -80,85."
      ],
      "metadata": {
        "id": "FkVkonbDlCyn"
      }
    },
    {
      "cell_type": "markdown",
      "source": [
        "Algorithm:\n",
        "\n",
        "Sort the Array: First, sort the array in ascending order. Sorting helps in efficiently finding the pair with the closest sum using two pointers.\n",
        "\n",
        "\n",
        "\n",
        "Initialize Pointers: Use two pointers:\n",
        "\n",
        "\n",
        "\n",
        "One pointer (left) starts at the beginning of the array.\n",
        "The other pointer (right) starts at the end of the array.\n",
        "Iterate with Two Pointers:\n",
        "\n",
        "\n",
        "\n",
        "Calculate the sum of the elements pointed to by the two pointers.\n",
        "\n",
        "If this sum is closer to 0 than the previously recorded closest sum, update the closest sum and the pair.\n",
        "\n",
        "If the sum is less than 0, move the left pointer to the right to increase the sum.\n",
        "\n",
        "If the sum is greater than 0, move the right pointer to the left to decrease the sum.\n",
        "\n",
        "\n",
        "Repeat until the left pointer is no longer less than the right pointer.\n",
        "Return the Closest Pair: After iterating, return the pair with the sum closest to 0."
      ],
      "metadata": {
        "id": "E1jnGp3rlwkE"
      }
    },
    {
      "cell_type": "code",
      "source": [
        "def find_closest_pair(arr):\n",
        "    # Sort the array\n",
        "    arr.sort()\n",
        "\n",
        "    # Initializing two pointers\n",
        "    left = 0\n",
        "    right = len(arr) - 1\n",
        "\n",
        "    # Initializing variables to store the closest sum and the corresponding pair\n",
        "    closest_sum = float('inf')\n",
        "    closest_pair = (None, None)\n",
        "\n",
        "    while left < right:\n",
        "        current_sum = arr[left] + arr[right]\n",
        "\n",
        "        # Updating closest pair if current_sum is closer to 0\n",
        "        if abs(current_sum) < abs(closest_sum):\n",
        "            closest_sum = current_sum\n",
        "            closest_pair = (arr[left], arr[right])\n",
        "\n",
        "        # Moving pointers based on the current sum\n",
        "        if current_sum < 0:\n",
        "            left += 1\n",
        "        elif current_sum > 0:\n",
        "            right -= 1\n",
        "        else:\n",
        "            # If the sum is exactly 0, return immediately\n",
        "            return closest_pair\n",
        "\n",
        "    return closest_pair\n",
        "\n",
        "# Example usage\n",
        "arr = [1, 60, -10, 70, -80, 85]\n",
        "result = find_closest_pair(arr)\n",
        "print(f\"The pair with the sum closest to 0 is: {result}\")\n"
      ],
      "metadata": {
        "colab": {
          "base_uri": "https://localhost:8080/"
        },
        "id": "8l1wvU9dk149",
        "outputId": "de62bad7-bc85-43b9-934e-188c98277ded"
      },
      "execution_count": null,
      "outputs": [
        {
          "output_type": "stream",
          "name": "stdout",
          "text": [
            "The pair with the sum closest to 0 is: (-80, 85)\n"
          ]
        }
      ]
    },
    {
      "cell_type": "markdown",
      "source": [
        "EXPLANATION:\n",
        "\n",
        "\n",
        "sorting: Sorting the array ensures that we can efficiently find pairs with the closest sum using the two-pointer technique.\n",
        "\n",
        "\n",
        "Two Pointers: By adjusting the pointers based on the sum, we efficiently explore\n",
        "\n",
        " potential pairs:\n",
        "If the sum is negative, moving the left pointer to the right increases the sum.\n",
        "If the sum is positive, moving the right pointer to the left decreases the sum.\n",
        "Closest Sum: We continuously update the closest sum and pair based on the current sum's proximity to 0.\n",
        "\n",
        "Time Complexity:\n",
        "𝑂\n",
        "(\n",
        "𝑛\n",
        "log\n",
        "⁡\n",
        "𝑛\n",
        ")\n",
        ", due to the sorting step. The two-pointer scan is\n",
        "𝑂\n",
        "(\n",
        "𝑛\n",
        ")\n",
        "O(n).\n",
        "Space Complexity:\n",
        "𝑂\n",
        "(\n",
        "1\n",
        ")\n",
        ", as only a few additional variables are used for tracking.\n",
        "This approach is efficient and effectively handles both positive and negative numbers to find the pair with the sum closest to zero"
      ],
      "metadata": {
        "id": "fxUmK3ormnUN"
      }
    },
    {
      "cell_type": "markdown",
      "source": [
        "Problem 6 : Given an array of n elements . Find three elements such that their sum is equal to the given\n",
        "number."
      ],
      "metadata": {
        "id": "EyHvzZ8VmMhF"
      }
    },
    {
      "cell_type": "markdown",
      "source": [
        "To find three elements in an array such that their sum equals a given number\n",
        "𝐾\n",
        "K, you can use an efficient approach that leverages sorting and a two-pointer technique. This method improves on the brute-force approach and has a time complexity of\n",
        "𝑂\n",
        "(\n",
        "𝑛\n",
        "2\n",
        ")\n",
        "."
      ],
      "metadata": {
        "id": "qivqsRqynIlA"
      }
    },
    {
      "cell_type": "markdown",
      "source": [
        "Algorithm\n",
        "Sort the Array: Begin by sorting the array. This allows you to efficiently find pairs of numbers that sum up to a target value using two pointers.\n",
        "\n",
        "\n",
        "\n",
        "Iterate with One Fixed Element:\n",
        "\n",
        "Fix one element at a time and use the two-pointer technique to find two other elements that sum up to\n",
        "𝐾\n",
        "K minus the fixed element.\n",
        "\n",
        "\n",
        "\n",
        "Two-Pointer Technique:\n",
        "\n",
        "For each fixed element, initialize two pointers:\n",
        "left starts just after the fixed element.\n",
        "right starts at the end of the array.\n",
        "Adjust the left and right pointers based on the sum of the elements they point to, aiming to find a pair that, along with the fixed element, sums up to\n",
        "𝐾\n",
        "K.\n",
        "\n",
        "\n",
        "Return the Triplet: If a valid triplet is found, return it. If no such triplet exists after checking all possible fixed elements, indicate that no triplet is found."
      ],
      "metadata": {
        "id": "RY-eVBMRnNQV"
      }
    },
    {
      "cell_type": "code",
      "source": [
        "#code:\n",
        "def find_three_elements(arr, K):\n",
        "    arr.sort()  # Sort the array\n",
        "    n = len(arr)\n",
        "\n",
        "    for i in range(n - 2):\n",
        "        # Fix the first element as arr[i]\n",
        "        target = K - arr[i]\n",
        "\n",
        "        # Initialize two pointers for the remaining elements\n",
        "        left = i + 1\n",
        "        right = n - 1\n",
        "\n",
        "        while left < right:\n",
        "            current_sum = arr[left] + arr[right]\n",
        "\n",
        "            if current_sum == target:\n",
        "                # Found the triplet\n",
        "                return (arr[i], arr[left], arr[right])\n",
        "            elif current_sum < target:\n",
        "                left += 1\n",
        "            else:\n",
        "                right -= 1\n",
        "\n",
        "    return None  # No triplet found\n",
        "\n",
        "# Example usage\n",
        "arr = [12, 3, 4, 1, 6, 9]\n",
        "K = 24\n",
        "result = find_three_elements(arr, K)\n",
        "\n",
        "if result:\n",
        "    print(f\"The triplet with the sum {K} is: {result}\")\n",
        "else:\n",
        "    print(f\"No triplet found with the sum {K}.\")\n"
      ],
      "metadata": {
        "colab": {
          "base_uri": "https://localhost:8080/"
        },
        "id": "XOcxGn_nl82e",
        "outputId": "a8685b2c-c45a-4cef-ee28-61b818698847"
      },
      "execution_count": null,
      "outputs": [
        {
          "output_type": "stream",
          "name": "stdout",
          "text": [
            "The triplet with the sum 24 is: (3, 9, 12)\n"
          ]
        }
      ]
    },
    {
      "cell_type": "markdown",
      "source": [
        "Explanation\n",
        "\n",
        "Sorting: Sorting the array helps in efficiently finding the two other numbers for each fixed element.\n",
        "\n",
        "Fixed Element: For each element in the array (considered as the first element of the triplet), compute the target sum for the other two numbers.\n",
        "\n",
        "\n",
        "Two-Pointer Search: Use two pointers to find two numbers that sum up to the target value (remaining sum required). Adjust the pointers based on whether the current sum is less than or greater than the target.\n",
        "\n",
        "\n",
        "Output: Return the first valid triplet found. If no triplet is found after all iterations, return None.\n",
        "Time Complexity\n",
        "Time Complexity:\n",
        "𝑂\n",
        "(\n",
        "𝑛\n",
        "2\n",
        ")\n",
        "O(n\n",
        "2\n",
        " ). Sorting the array takes\n",
        "𝑂\n",
        "(\n",
        "𝑛\n",
        "log\n",
        "⁡\n",
        "𝑛\n",
        ")\n",
        " and the two-pointer search for each fixed element takes\n",
        "𝑂\n",
        "(\n",
        "𝑛\n",
        ")\n",
        "O(n), resulting in an overall time complexity of\n",
        "𝑂\n",
        "(\n",
        "𝑛\n",
        "2\n",
        ")\n",
        ".\n",
        "Space Complexity:\n",
        "𝑂\n",
        "(\n",
        "1\n",
        ")\n",
        ", as the algorithm uses a constant amount of extra space beyond the input array.\n"
      ],
      "metadata": {
        "id": "YZ95GNQonWog"
      }
    },
    {
      "cell_type": "markdown",
      "source": [
        "Problem 7 : Given an array of n elements . Find three elements i, j, k in the array such that\n",
        "i * i + j * j = k*k.\n",
        "\n"
      ],
      "metadata": {
        "id": "FtRLGqz3nuxt"
      }
    },
    {
      "cell_type": "markdown",
      "source": [
        "To solve the problem of finding three elements\n",
        "𝑖\n",
        "i,\n",
        "𝑗\n",
        "j, and\n",
        "𝑘\n",
        "k in an array such that\n",
        "𝑖\n",
        "2\n",
        "+\n",
        "𝑗\n",
        "2\n",
        "=\n",
        "𝑘\n",
        "2\n",
        "i\n",
        "2\n",
        " +j\n",
        "2\n",
        " =k\n",
        "2\n",
        " , you can use a combination of sorting and hashing. The goal is to find three elements where the sum of the squares of two elements equals the square of a third element.\n",
        "\n"
      ],
      "metadata": {
        "id": "E5eQwKMloRw-"
      }
    },
    {
      "cell_type": "markdown",
      "source": [
        "Algorithm\n",
        "\n",
        "\n",
        "Compute All Possible Squares:\n",
        "\n",
        "Compute the square of each element and store these squares in a set for quick lookup.\n",
        "\n",
        "\n",
        "Check for Valid Triplets:\n",
        "\n",
        "Iterate through each pair of elements\n",
        "𝑖\n",
        "i and\n",
        "𝑗\n",
        "j, compute the sum of their squares.\n",
        "Check if this sum exists as a square in the set.\n",
        "\n",
        "\n",
        "Return the Triplet: If a valid triplet is found, return it. Otherwise, indicate that no such triplet exists."
      ],
      "metadata": {
        "id": "5PG0h4dxoYJg"
      }
    },
    {
      "cell_type": "code",
      "source": [
        "def find_triplet(arr):\n",
        "    # Creating a set to store the squares of the array elements\n",
        "    squares = set(x*x for x in arr)\n",
        "\n",
        "    # Iterating through each pair (i, j) and check if their sum is a square in the set\n",
        "    for i in arr:\n",
        "        for j in arr:\n",
        "            if i != j:\n",
        "                # Calculating the sum of squares\n",
        "                sum_squares = i*i + j*j\n",
        "\n",
        "                # Checking if the sum_squares is present in the set\n",
        "                if sum_squares in squares:\n",
        "                    # Finding k where k*k = sum_squares\n",
        "                    k = int(sum_squares**0.5)\n",
        "                    if k in arr:\n",
        "                        return (i, j, k)\n",
        "\n",
        "    return None  # No such triplet found\n",
        "\n",
        "# Example usage\n",
        "arr = [3, 4, 5, 6, 8, 10]\n",
        "result = find_triplet(arr)\n",
        "\n",
        "if result:\n",
        "    print(f\"The triplet (i, j, k) where i^2 + j^2 = k^2 is: {result}\")\n",
        "else:\n",
        "    print(f\"No triplet found such that i^2 + j^2 = k^2.\")\n"
      ],
      "metadata": {
        "colab": {
          "base_uri": "https://localhost:8080/"
        },
        "id": "f2-JpIvxnHFn",
        "outputId": "3e5fe5a8-55f3-45ca-b039-37949f2b42fa"
      },
      "execution_count": null,
      "outputs": [
        {
          "output_type": "stream",
          "name": "stdout",
          "text": [
            "The triplet (i, j, k) where i^2 + j^2 = k^2 is: (3, 4, 5)\n"
          ]
        }
      ]
    },
    {
      "cell_type": "markdown",
      "source": [
        "explanation\n",
        "\n",
        "Compute Squares: Compute the square of each element and store these squares in a set. This allows quick lookups to determine if a sum of squares exists in the set.\n",
        "\n",
        "Iterate Pairs: For each pair of elements\n",
        "𝑖\n",
        "j and\n",
        ", compute\n",
        "𝑖\n",
        "2\n",
        "+\n",
        "𝑗\n",
        "2\n",
        "\n",
        " . Check if this value is in the set of squares. If it is, calculate\n",
        "𝑘\n",
        " such that\n",
        "𝑘\n",
        "2\n",
        "\n",
        "  equals this sum, and verify that\n",
        "𝑘\n",
        " is present in the array.\n",
        "\n",
        "\n",
        "Output: Return the first valid triplet found. If no triplet is found after all iterations, return None.\n",
        "\n",
        "Time Complexity:\n",
        "𝑂\n",
        "(\n",
        "𝑛\n",
        "2\n",
        ")\n",
        ". Computing the squares takes\n",
        "𝑂\n",
        "(\n",
        "𝑛\n",
        ")\n",
        " and checking all pairs of elements takes\n",
        "𝑂\n",
        "(\n",
        "𝑛\n",
        "2\n",
        ")\n",
        ".\n",
        "Space Complexity:\n",
        "𝑂\n",
        "(\n",
        "𝑛\n",
        "), due to the space needed to store the squares in a set.\n",
        "\n",
        "\n",
        "\n",
        "This approach efficiently finds a triplet that satisfies\n",
        "𝑖\n",
        "2\n",
        "+\n",
        "𝑗\n",
        "2\n",
        "=\n",
        "𝑘\n",
        "2\n",
        "\n",
        "  by leveraging set operations for quick lookups and iterating through pairs of elements.\n",
        "\n",
        "\n",
        "\n",
        "\n",
        "\n",
        "\n",
        "\n",
        "\n",
        "\n"
      ],
      "metadata": {
        "id": "mSZc95syoprC"
      }
    },
    {
      "cell_type": "markdown",
      "source": [
        "Problem 8 : An element is a majority if it appears more than n/2 times. Give an algorithm takes an array of n\n",
        "element as argument and identifies a majority (if it exists)."
      ],
      "metadata": {
        "id": "oGmMSusXp-EF"
      }
    },
    {
      "cell_type": "markdown",
      "source": [
        "To identify a majority element in an array (an element that appears more than\n",
        "𝑛/\n",
        "2\n",
        "\n",
        "  times), you can use the Boyer-Moore Voting Algorithm. This algorithm efficiently finds the majority element in\n",
        "𝑂\n",
        "(\n",
        "𝑛\n",
        ")\n",
        " time and\n",
        "𝑂\n",
        "(\n",
        "1\n",
        ")\n",
        " space.\n",
        "\n"
      ],
      "metadata": {
        "id": "KXSfg8eWqkIr"
      }
    },
    {
      "cell_type": "markdown",
      "source": [],
      "metadata": {
        "id": "a8k0bG7Cqv_I"
      }
    },
    {
      "cell_type": "code",
      "source": [],
      "metadata": {
        "id": "Ay71c8jlohSw"
      },
      "execution_count": null,
      "outputs": []
    },
    {
      "cell_type": "markdown",
      "source": [
        "Algorithm Steps\n",
        "\n",
        "\n",
        "Initialize Variables:\n",
        "\n",
        "Set a candidate variable to hold the current candidate for majority.\n",
        "Set a count variable to keep track of the candidate's count.\n",
        "\n",
        "\n",
        "First Pass (Find a Candidate):\n",
        "\n",
        "Traverse through the array.\n",
        "For each element:\n",
        "If the count is zero, update the candidate to the current element.\n",
        "If the current element matches the candidate, increment the count.\n",
        "Otherwise, decrement the count.\n",
        "\n",
        "\n",
        "Second Pass (Verify the Candidate):\n",
        "\n",
        "After the first pass, verify if the candidate is indeed the majority element.\n",
        "Count the occurrences of the candidate in the array.\n",
        "If the count is greater than\n",
        "n/2\n",
        " , then the candidate is the majority element. Otherwise, no majority element exists."
      ],
      "metadata": {
        "id": "CNSCaS68q3lR"
      }
    },
    {
      "cell_type": "code",
      "source": [
        "def find_majority_element(arr):\n",
        "    # Step 1: Finding a candidate for majority element\n",
        "    candidate = None\n",
        "    count = 0\n",
        "\n",
        "    for num in arr:\n",
        "        if count == 0:\n",
        "            candidate = num\n",
        "        count += (1 if num == candidate else -1)\n",
        "\n",
        "    # Step 2: Verifying the candidate\n",
        "    if candidate is not None and arr.count(candidate) > len(arr) // 2:\n",
        "        return candidate\n",
        "\n",
        "    return None\n",
        "\n",
        "# Example usage\n",
        "arr = [3, 3, 4, 2, 4, 4, 2, 4, 4]\n",
        "result = find_majority_element(arr)\n",
        "\n",
        "if result is not None:\n",
        "    print(f\"The majority element is: {result}\")\n",
        "else:\n",
        "    print(\"No majority element found.\")\n"
      ],
      "metadata": {
        "colab": {
          "base_uri": "https://localhost:8080/"
        },
        "id": "wx6QRxyZq986",
        "outputId": "51afba4c-d742-4d5d-faa5-a6102c883c73"
      },
      "execution_count": null,
      "outputs": [
        {
          "output_type": "stream",
          "name": "stdout",
          "text": [
            "The majority element is: 4\n"
          ]
        }
      ]
    },
    {
      "cell_type": "markdown",
      "source": [
        "Explanation:\n",
        "\n",
        "\n",
        "Finding the Candidate:\n",
        "As you traverse the array, maintain a count that increases or decreases based on whether the current element matches the candidate. If the count becomes zero, update the candidate to the current element.\n",
        "\n",
        "\n",
        "Verifying the Candidate:\n",
        "After finding a candidate, count its occurrences in the array to confirm if it appears more than\n",
        "𝑛\n",
        "/2\n",
        "  times.\n",
        "\n",
        "\n",
        "\n",
        "Time Complexity:\n",
        "\n",
        "O(n) for both finding the candidate and verifying it.\n",
        "Space Complexity:\n",
        "𝑂\n",
        "(\n",
        "1\n",
        ")\n",
        " as no extra space is used except for a few variables.\n",
        "\n",
        "\n",
        "The Boyer-Moore Voting Algorithm is efficient and effective for finding the majority element when it exists, and it operates in linear time with constant space."
      ],
      "metadata": {
        "id": "FZmrGxm2rTxj"
      }
    },
    {
      "cell_type": "markdown",
      "source": [
        "Problem 9 : Given n × n matrix, and in each row all 1’s are followed by 0’s. Find the row with the maximum\n",
        "number of 0’s."
      ],
      "metadata": {
        "id": "mSomXeGSrgyO"
      }
    },
    {
      "cell_type": "markdown",
      "source": [
        "To solve the problem of finding the row with the maximum number of 0's in an\n",
        "𝑛\n",
        "×\n",
        "𝑛\n",
        " matrix where all 1's are followed by 0's in each row, you can use an efficient approach with a linear scan."
      ],
      "metadata": {
        "id": "A9oOVvPErtv3"
      }
    },
    {
      "cell_type": "markdown",
      "source": [
        "Approach\n",
        "\n",
        "\n",
        "Start from the Last Column: Begin by checking the last column of the matrix and then move leftwards. Since all 1's are followed by 0's in each row, starting from the last column allows you to efficiently determine where the 0's start in each row.\n",
        "\n",
        "\n",
        "\n",
        "Track the Row with the Maximum Number of 0's: Maintain a variable to keep track of the maximum number of 0's encountered and the corresponding row index.\n",
        "\n",
        "Algorithm\n",
        "\n",
        "\n",
        "Initialize Variables:\n",
        "\n",
        "max_zeros to keep track of the maximum number of 0's found.\n",
        "row_with_max_zeros to store the index of the row with the maximum number of 0's.\n",
        "Start from the last column and move leftwards.\n",
        "\n",
        "\n",
        "\n",
        "Iterate Through the Matrix:\n",
        "\n",
        "For each row, if the current column has a 0, then all elements to the left are also 0's. Count the number of 0's in this row and update the maximum if this count is higher than the previously recorded maximum."
      ],
      "metadata": {
        "id": "Lt5-ZxfDryEb"
      }
    },
    {
      "cell_type": "code",
      "source": [
        "def find_row_with_max_zeros(matrix):\n",
        "    n = len(matrix)\n",
        "    max_zeros = -1\n",
        "    row_with_max_zeros = -1\n",
        "\n",
        "    # Starting from the last column\n",
        "    col = n - 1\n",
        "\n",
        "    # Traverse each row\n",
        "    for row in range(n):\n",
        "        # Moving the column pointer leftwards if we still have 0's in the current row\n",
        "        while col >= 0 and matrix[row][col] == 0:\n",
        "            col -= 1\n",
        "\n",
        "        # The number of 0's in the current row\n",
        "        num_zeros = n - (col + 1)\n",
        "\n",
        "        # Updating the maximum if this row has more 0's\n",
        "        if num_zeros > max_zeros:\n",
        "            max_zeros = num_zeros\n",
        "            row_with_max_zeros = row\n",
        "\n",
        "    return row_with_max_zeros\n",
        "\n",
        "# Example usage\n",
        "matrix = [\n",
        "    [1, 1, 1, 0, 0],\n",
        "    [1, 1, 0, 0, 0],\n",
        "    [1, 1, 1, 1, 0],\n",
        "    [1, 1, 0, 0, 0]\n",
        "]\n",
        "\n",
        "result = find_row_with_max_zeros(matrix)\n",
        "print(f\"The row with the maximum number of 0's is: {result}\")\n"
      ],
      "metadata": {
        "colab": {
          "base_uri": "https://localhost:8080/"
        },
        "id": "0a_KOzjXrOqg",
        "outputId": "0a0833c0-155d-4583-ff06-9c38f65822ee"
      },
      "execution_count": null,
      "outputs": [
        {
          "output_type": "stream",
          "name": "stdout",
          "text": [
            "The row with the maximum number of 0's is: 1\n"
          ]
        }
      ]
    },
    {
      "cell_type": "markdown",
      "source": [
        "Explanation\n",
        "\n",
        "\n",
        "Column Traversal:\n",
        "\n",
        "By starting from the last column and moving leftwards, you can quickly determine where the 0's start in each row.\n",
        "\n",
        "\n",
        "\n",
        "Counting 0's:\n",
        "\n",
        "For each row, calculate the number of 0's as the difference between the total number of columns and the current column index plus one.\n",
        "\n",
        "\n",
        "Update Maximum:\n",
        "\n",
        "Update the row index with the maximum number of 0's if the current row has more 0's than previously recorded.\n",
        "\n",
        "\n",
        "\n",
        "Time Complexity:\n",
        "𝑂\n",
        "(\n",
        "𝑛\n",
        ")\n",
        ". Each row is processed once, and moving left through the columns is efficient due to the structure of the matrix.\n",
        "\n",
        "\n",
        "\n",
        "\n",
        "Space Complexity:\n",
        "𝑂\n",
        "(\n",
        "1\n",
        "). Only a few extra variables are used.\n",
        "This approach efficiently finds the row with the maximum number of 0's by leveraging the matrix's properties, providing a linear time solution."
      ],
      "metadata": {
        "id": "YVO6CO95rQBj"
      }
    },
    {
      "cell_type": "markdown",
      "source": [
        "Problem 10 : Sort an array of 0’s, 1’s and 2’s [or R’s, G’s and B’s]: Given an array A[] consisting of 0’s, 1’s and\n",
        "2’s, give an algorithm for sorting A[].The algorithm should put all 0’s first, then all 1’s and finally all 2’s at the\n",
        "end. Example Input = {0,1,1,0,1,2,1,2,0,0,0,1}, Output = {0,0,0,0,0,1,1,1,1,1,2,2}"
      ],
      "metadata": {
        "id": "C9VQRcR7sfLK"
      }
    },
    {
      "cell_type": "markdown",
      "source": [
        "To solve the problem of sorting an array consisting of 0's, 1's, and 2's, you can use the Dutch National Flag Algorithm. This algorithm efficiently sorts the array in a single pass using constant space."
      ],
      "metadata": {
        "id": "pDzTPTvhsk8U"
      }
    },
    {
      "cell_type": "markdown",
      "source": [
        "Dutch National Flag Algorithm\n",
        "The algorithm works by maintaining three pointers:\n",
        "\n",
        "Low: To track the boundary for 0's.\n",
        "Mid: To traverse through the array.\n",
        "High: To track the boundary for 2's.\n",
        "\n",
        "\n",
        "Steps\n",
        "Initialization:\n",
        "\n",
        "Set low to the start of the array (index 0).\n",
        "Set mid to the start of the array (index 0).\n",
        "Set high to the end of the array (index\n",
        "𝑛\n",
        "−\n",
        "1).\n",
        "\n",
        "\n",
        "\n",
        "Traversal:\n",
        "\n",
        "Traverse the array with the mid pointer.\n",
        "Depending on the value at arr[mid]:\n",
        "If it’s 0, swap it with the value at arr[low], increment both low and mid.\n",
        "If it’s 1, just move mid to the next position.\n",
        "\n",
        "\n",
        "If it’s 2, swap it with the value at arr[high], decrement high (do not increment mid in this case because the swapped value from high needs to be processed)."
      ],
      "metadata": {
        "id": "rk-Oscw8svUd"
      }
    },
    {
      "cell_type": "code",
      "source": [
        "def sort_012(arr):\n",
        "    low = 0\n",
        "    mid = 0\n",
        "    high = len(arr) - 1\n",
        "\n",
        "    while mid <= high:\n",
        "        if arr[mid] == 0:\n",
        "            arr[low], arr[mid] = arr[mid], arr[low]\n",
        "            low += 1\n",
        "            mid += 1\n",
        "        elif arr[mid] == 1:\n",
        "            mid += 1\n",
        "        else:  # arr[mid] == 2\n",
        "            arr[high], arr[mid] = arr[mid], arr[high]\n",
        "            high -= 1\n",
        "\n",
        "# Example usage\n",
        "arr = [0, 1, 1, 0, 1, 2, 1, 2, 0, 0, 0, 1]\n",
        "sort_012(arr)\n",
        "print(\"Sorted array:\", arr)\n"
      ],
      "metadata": {
        "colab": {
          "base_uri": "https://localhost:8080/"
        },
        "id": "4gbUroMOsdlp",
        "outputId": "aba1245c-d576-42ad-879c-2107193be11f"
      },
      "execution_count": null,
      "outputs": [
        {
          "output_type": "stream",
          "name": "stdout",
          "text": [
            "Sorted array: [0, 0, 0, 0, 0, 1, 1, 1, 1, 1, 2, 2]\n"
          ]
        }
      ]
    },
    {
      "cell_type": "markdown",
      "source": [
        "Explanation\n",
        "\n",
        "\n",
        "\n",
        "Initialization:\n",
        "\n",
        "low and mid start from the beginning of the array, while high starts from the end.\n",
        "\n",
        "\n",
        "\n",
        "Processing Each Element:\n",
        "\n",
        "For 0: Swap it with the element at low, increment both low and mid.\n",
        "For 1: Simply move mid forward as it’s already in the correct section.\n",
        "For 2: Swap it with the element at high and decrement high. Do not increment mid because the swapped element needs to be processed.\n",
        "\n",
        "\n",
        "\n",
        "Time Complexity:\n",
        "𝑂\n",
        "(\n",
        "𝑛\n",
        ")\n",
        "where\n",
        "𝑛\n",
        "n is the number of elements in the array. Each element is processed at most twice (once by mid and once by high).\n",
        "Space Complexity:\n",
        "𝑂\n",
        "(\n",
        "1\n",
        ")\n",
        ". The algorithm sorts the array in place with constant extra space.\n",
        "This approach efficiently sorts an array of 0's, 1's, and 2's with a single pass and is highly effective for this specific problem."
      ],
      "metadata": {
        "id": "ViKe3nuYtOsW"
      }
    },
    {
      "cell_type": "code",
      "source": [],
      "metadata": {
        "id": "gz5vF4H-tKoJ"
      },
      "execution_count": null,
      "outputs": []
    }
  ]
}